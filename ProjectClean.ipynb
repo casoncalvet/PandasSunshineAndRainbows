{
 "cells": [
  {
   "cell_type": "code",
   "execution_count": 50,
   "id": "ea4eb5c3",
   "metadata": {
    "scrolled": true
   },
   "outputs": [
    {
     "data": {
      "text/plain": [
       "{'White Shark': {620}, 'Tiger Shark': {256}}"
      ]
     },
     "execution_count": 50,
     "metadata": {},
     "output_type": "execute_result"
    }
   ],
   "source": [
    "import pandas as pd\n",
    "\n",
    "df= pd.read_csv ('./datasets/attacks.csv', encoding='unicode_escape')\n",
    "\n",
    "\n",
    "#Check for duplicates in DF \n",
    "df[df.duplicated()== True].dropna()\n",
    "\n",
    "## isolate Attacks and Dropna \n",
    "spattacks= df[['Fatal (Y/N)', 'Species ']].dropna()\n",
    "\n",
    "# Replace odd values with values that can be included using regex pattern   \n",
    "spattacks['Species '].replace('Blue pointer', 'blue pointer shark', inplace= True)\n",
    "spattacks['Species '].replace('Blue pointers', 'blue pointer shark', inplace= True)\n",
    "\n",
    "# Extract only information on shark species \n",
    "spattacks['Species']= spattacks['Species '].str.extract(r'(\\w{3,}?-\\w{3,}\\sshark|\\w{3,}?\\s\\w{3,}\\sshark|\\w{3,}\\sshark)')\n",
    "\n",
    "# dropna \n",
    "spattacks= spattacks[['Fatal (Y/N)','Species']].dropna()\n",
    "\n",
    "#Apply title function to dataframe bc its purtier \n",
    "spattacks= spattacks.applymap(lambda x: x.title())\n",
    "\n",
    "# Group by to investigate categories \n",
    "sp=spattacks.groupby(['Fatal (Y/N)']).count()\n",
    "sp\n",
    "sd= spattacks.groupby(['Species']).count()\n",
    "sd\n",
    "\n",
    "## Need to clean spaces from spattacks df \n",
    "spattacks= spattacks.apply(lambda x: x.str.strip())\n",
    "\n",
    "# Set Fatal columns to only = Y or N:\n",
    "\n",
    "def condition(x): \n",
    "    if x == 'Y': \n",
    "        return x\n",
    "    elif x == 'N': \n",
    "        return x\n",
    "# Create new column with only Y or N\n",
    "spattacks['Attacks']= spattacks['Fatal (Y/N)'].apply(condition)\n",
    "\n",
    "#dropna (unknown variables) and drop old Fatal (Y/N) column\n",
    "spattacks= spattacks.dropna()\n",
    "spattacks= spattacks.drop('Fatal (Y/N)', axis= 1)\n",
    "\n",
    "# Ensure only Y/N categories present \n",
    "spattacks.groupby('Attacks').count()\n",
    "\n",
    "#Add Zambezi sharks to Zambesi Shark \n",
    "spattacks['Species'].replace('Zambezi Shark', 'Zambesi Shark', inplace= True)\n",
    "\n",
    "# Aggregate Species: Remove ('Small, Large')\n",
    "spattacks['Species'].unique()\n",
    "\n",
    "# Hypothesis:  \n",
    "\n",
    "# Need to use regex to eliminate unwanted shit in Species \n",
    "spattacks['better']= spattacks['Species'].apply(lambda x :x.replace('Small ', '').replace('Large ', '').replace('Larger ', '').replace('Juvenile ', '').replace('Female ', '').replace('Very ', ''). replace('Oceanic ', '').replace('Young ', '').replace('30Kg ', '').replace('Captive ', '').replace('Grey Colored ', '').replace('Gray ', '').replace('But The ','').replace('Grey ', '').replace('Two ', '').replace('Recovered From ','').replace('Remains From ','').replace('The ','').replace('Possible ', '').replace('Comrades Saw ', '').replace('Same ','').replace('Broadnose ','').replace('Six ','').replace('Believed ','').replace('Cold For ','').replace('Shot ', '').replace('Involve ','').replace('-',' ').replace('Dead ','').replace('Possibly ', '').replace('Scalloped ', '').replace('Great ', '').replace('Little ', '').replace('Possiby ','').replace('Probable ', ''))\n",
    "\n",
    "# want to make a new dataframe with highest occurances of species: Determine highest use categories using unique value counts \n",
    "\n",
    "\n",
    "#create dictionary of Species vs Attack occurances\n",
    "#Grab sums of each category\n",
    "whitesum= spattacks.loc[spattacks['better'] == 'White Shark'].value_counts().sum()\n",
    "tigersum= spattacks.loc[spattacks['better'] == 'Tiger Shark'].value_counts().sum()\n",
    "\n",
    "\n",
    "{'White Shark': {whitesum}, 'Tiger Shark': {tigersum}, }\n",
    "    \n",
    "    "
   ]
  },
  {
   "cell_type": "code",
   "execution_count": 49,
   "id": "1b46c16d",
   "metadata": {},
   "outputs": [
    {
     "data": {
      "text/plain": [
       "array(['White Shark', 'Tiger Shark', 'Lemon Shark', 'Bull Shark',\n",
       "       'Reef Shark', 'Tawny Nurse Shark', 'Wobbegong Shark',\n",
       "       'Blacktip Shark', 'Galapagos Shark', 'Shark', 'Nurse Shark',\n",
       "       'Blue Shark', 'Cookiecutter Shark', 'Spinner Shark',\n",
       "       'Whitetip Shark', 'Sandtiger Shark', 'Seven Gill Shark',\n",
       "       'Caribbean Reef Shark', 'Sevengill Shark', 'Angel Shark',\n",
       "       'Dogfish Shark', 'Mako Shark', 'Silky Shark',\n",
       "       'Bronze Whaler Shark', 'Hammerhead Shark', 'Foot Shark',\n",
       "       'Blacktip Reef Shark', 'Raggedtooth Shark', 'Goblin Shark',\n",
       "       'Metre Shark', 'Sandbar Shark', 'Tawney Nurse Shark', 'Cow Shark',\n",
       "       'Gill Shark', 'Whitetip Reef Shark', 'Salmon Shark',\n",
       "       'Porbeagle Shark', 'Port Jackson Shark', 'Zambesi Shark',\n",
       "       'Thresher Shark', 'Bronze Whale Shark', 'Cookie Cutter Shark',\n",
       "       'Dusky Shark', 'Starry Smoothhound Shark', 'Basking Shark',\n",
       "       'Sand Shark', 'Copper Shark', 'Longfin Mako Shark', 'Brown Shark',\n",
       "       'Shortfin Mako Shark', 'Grey Colored Shark', 'Bonnethed Shark',\n",
       "       'Whaler Shark', 'Black Finned Shark', 'Soupfin Shark',\n",
       "       'Leopard Shark', 'Unidentified Shark', 'Gaffed Shark',\n",
       "       'Silvertip Shark', 'Tipped Reef Shark', 'Whale Shark',\n",
       "       'Carpet Shark', 'Dog Shark', 'Brown Colored Shark', 'Red Shark',\n",
       "       'Banjo Shark', 'Hooked Shark', 'Blue Pointer Shark',\n",
       "       'Blacktail Reef Shark', 'Several Shark', 'Carcharinid Shark',\n",
       "       'Been Another Shark', 'Slim Brown Shark', 'Whtietip Reef Shark',\n",
       "       'Bonita Shark', 'Shovelnose Shark', 'Blue Nose Shark',\n",
       "       'Blue Nosed Shark', 'Cocktail Shark', 'Carcharhinid Shark',\n",
       "       'Whiptail Shark', 'Ground Shark', 'Black Tipped Shark'],\n",
       "      dtype=object)"
      ]
     },
     "execution_count": 49,
     "metadata": {},
     "output_type": "execute_result"
    }
   ],
   "source": [
    "## ONLY want categories with more than 10 attacks \n",
    "counts= spattacks.groupby('Species').count()\n",
    "counts.sample(60)\n",
    "spattacks['better'].unique()\n",
    "\n",
    "spattacks['better'].value_counts()\n",
    "spattacks.loc[spattacks['better'] == 'Tiger Shark'].value_counts().sum()\n",
    "\n",
    "spattacks['better'].unique()"
   ]
  },
  {
   "cell_type": "code",
   "execution_count": 4,
   "id": "df2b02ed",
   "metadata": {},
   "outputs": [
    {
     "ename": "SyntaxError",
     "evalue": "invalid syntax (4098552461.py, line 15)",
     "output_type": "error",
     "traceback": [
      "\u001b[0;36m  File \u001b[0;32m\"/var/folders/d5/04hj7k3d16n42n5ry74szfs00000gn/T/ipykernel_74103/4098552461.py\"\u001b[0;36m, line \u001b[0;32m15\u001b[0m\n\u001b[0;31m    spattacks.applymap(lambda x: x if x in shark_species)\u001b[0m\n\u001b[0m                                                        ^\u001b[0m\n\u001b[0;31mSyntaxError\u001b[0m\u001b[0;31m:\u001b[0m invalid syntax\n"
     ]
    }
   ],
   "source": [
    "spattacks['better']= spattacks['Species'].apply(lambda x :x.replace('Small ', '').replace('Large ', '').replace('Larger ', '').replace('Juvenile ', '').replace('Female ', ''))\n",
    "#spattacks['better'].unique()\n",
    "\n",
    "\n",
    "# Make a list of value strings: \n",
    "    # for i in spattacks.Species: \n",
    "        # if i in shark_specieslist:\n",
    "            # new_col.append(i)\n",
    "shark_species= ['White Shark', 'Tiger Shark', 'Lemon Shark', 'Bull Shark', 'Grey Reef Shark', 'Nurse Shark', 'Wobbegong Shark', 'Hammerhead Shark']\n",
    "\n",
    "        \n",
    "# Create new column with only values in shark_species\n",
    "\n",
    "\n",
    "#spattacks.applymap(lambda x: x if x in shark_species)\n",
    "        "
   ]
  },
  {
   "cell_type": "code",
   "execution_count": null,
   "id": "302bd6d0",
   "metadata": {},
   "outputs": [],
   "source": []
  },
  {
   "cell_type": "code",
   "execution_count": 5,
   "id": "1caa7bbc",
   "metadata": {},
   "outputs": [
    {
     "ename": "SyntaxError",
     "evalue": "invalid syntax (2614207941.py, line 2)",
     "output_type": "error",
     "traceback": [
      "\u001b[0;36m  File \u001b[0;32m\"/var/folders/d5/04hj7k3d16n42n5ry74szfs00000gn/T/ipykernel_74103/2614207941.py\"\u001b[0;36m, line \u001b[0;32m2\u001b[0m\n\u001b[0;31m    spattacks.applymap(lambda x: x if x in shark_species)\u001b[0m\n\u001b[0m                                                        ^\u001b[0m\n\u001b[0;31mSyntaxError\u001b[0m\u001b[0;31m:\u001b[0m invalid syntax\n"
     ]
    }
   ],
   "source": [
    "shark_species= ['White Shark', 'Tiger Shark', 'Lemon Shark', 'Bull Shark', 'Grey Reef Shark', 'Nurse Shark', 'Wobbegong Shark']\n",
    "spattacks.applymap(lambda x: x if x in shark_species)\n"
   ]
  },
  {
   "cell_type": "code",
   "execution_count": 62,
   "id": "d32bebff",
   "metadata": {},
   "outputs": [
    {
     "data": {
      "text/plain": [
       "Species                 Attacks  better              \n",
       "White Shark             N        White Shark             471\n",
       "Tiger Shark             N        Tiger Shark             184\n",
       "White Shark             Y        White Shark             140\n",
       "Bull Shark              N        Bull Shark              133\n",
       "Tiger Shark             Y        Tiger Shark              70\n",
       "Blacktip Shark          N        Blacktip Shark           56\n",
       "Bronze Whaler Shark     N        Bronze Whaler Shark      55\n",
       "Small Shark             N        Shark                    52\n",
       "Nurse Shark             N        Nurse Shark              50\n",
       "Wobbegong Shark         N        Wobbegong Shark          45\n",
       "Mako Shark              N        Mako Shark               45\n",
       "Raggedtooth Shark       N        Raggedtooth Shark        43\n",
       "Spinner Shark           N        Spinner Shark            43\n",
       "Grey Nurse Shark        N        Nurse Shark              38\n",
       "Bull Shark              Y        Bull Shark               37\n",
       "Lemon Shark             N        Lemon Shark              37\n",
       "Hammerhead Shark        N        Hammerhead Shark         35\n",
       "Blue Shark              N        Blue Shark               29\n",
       "Zambesi Shark           N        Zambesi Shark            22\n",
       "Sandtiger Shark         N        Sandtiger Shark          20\n",
       "Oceanic Whitetip Shark  N        Whitetip Shark           18\n",
       "Grey Reef Shark         N        Reef Shark               16\n",
       "Sand Shark              N        Sand Shark               15\n",
       "Caribbean Reef Shark    N        Caribbean Reef Shark     15\n",
       "Reef Shark              N        Reef Shark               14\n",
       "Dusky Shark             N        Dusky Shark              10\n",
       "Blacktip Reef Shark     N        Blacktip Reef Shark      10\n",
       "Sevengill Shark         N        Sevengill Shark           9\n",
       "Zambesi Shark           Y        Zambesi Shark             9\n",
       "Carpet Shark            N        Carpet Shark              7\n",
       "Blue Shark              Y        Blue Shark                7\n",
       "Oceanic Whitetip Shark  Y        Whitetip Shark            7\n",
       "Porbeagle Shark         N        Porbeagle Shark           6\n",
       "Dog Shark               N        Dog Shark                 6\n",
       "Angel Shark             N        Angel Shark               6\n",
       "Sandbar Shark           N        Sandbar Shark             6\n",
       "Basking Shark           N        Basking Shark             5\n",
       "Juvenile Shark          N        Shark                     5\n",
       "Whaler Shark            N        Whaler Shark              5\n",
       "Gill Shark              N        Gill Shark                5\n",
       "Galapagos Shark         N        Galapagos Shark           5\n",
       "Small Blacktip Shark    N        Blacktip Shark            5\n",
       "Copper Shark            N        Copper Shark              5\n",
       "Shortfin Mako Shark     N        Shortfin Mako Shark       4\n",
       "Bronze Whaler Shark     Y        Bronze Whaler Shark       4\n",
       "Silky Shark             N        Silky Shark               4\n",
       "Whitetip Reef Shark     N        Whitetip Reef Shark       4\n",
       "Tawny Nurse Shark       N        Tawny Nurse Shark         3\n",
       "Thresher Shark          N        Thresher Shark            3\n",
       "Grey-Colored Shark      N        Grey Colored Shark        3\n",
       "dtype: int64"
      ]
     },
     "execution_count": 62,
     "metadata": {},
     "output_type": "execute_result"
    }
   ],
   "source": [
    "counts= spattacks.value_counts()\n",
    "counts.head(50)"
   ]
  },
  {
   "cell_type": "code",
   "execution_count": 69,
   "id": "0a7cb176",
   "metadata": {},
   "outputs": [
    {
     "data": {
      "text/plain": [
       "18"
      ]
     },
     "execution_count": 69,
     "metadata": {},
     "output_type": "execute_result"
    }
   ],
   "source": [
    "shark_species= ['White Shark', 'Tiger Shark', 'Bull Shark','Blacktip Shark', 'Bronze Whaler Shark','Nurse Shark', 'Wobbegong Shark','Mako Shark','Raggedtooth Shark','Spinner Shark','Lemon Shark', 'Hammerhead Shark', 'Blue Shark','Zambesi Shark','Sandtiger Shark','Whitetip Shark','Reef Shark', 'Sand Shark'] \n",
    "\n",
    "Blacktip Shark\n",
    "\n",
    "spattacks[spattacks['Blacktip Shark']]\n",
    "\n",
    "#spattacks['Species'].findall()\n",
    "len(shark_species)\n",
    "\n"
   ]
  },
  {
   "cell_type": "code",
   "execution_count": 78,
   "id": "f51820db",
   "metadata": {},
   "outputs": [
    {
     "data": {
      "text/plain": [
       "Species    62\n",
       "Attacks    62\n",
       "better     62\n",
       "dtype: int64"
      ]
     },
     "execution_count": 78,
     "metadata": {},
     "output_type": "execute_result"
    }
   ],
   "source": [
    "#blacktipsharkcount= \n",
    "spattacks[spattacks['better']== 'Blacktip Shark'].count()\n"
   ]
  },
  {
   "cell_type": "code",
   "execution_count": null,
   "id": "da798c8c",
   "metadata": {},
   "outputs": [],
   "source": []
  }
 ],
 "metadata": {
  "kernelspec": {
   "display_name": "Python 3 (ipykernel)",
   "language": "python",
   "name": "python3"
  },
  "language_info": {
   "codemirror_mode": {
    "name": "ipython",
    "version": 3
   },
   "file_extension": ".py",
   "mimetype": "text/x-python",
   "name": "python",
   "nbconvert_exporter": "python",
   "pygments_lexer": "ipython3",
   "version": "3.7.13"
  }
 },
 "nbformat": 4,
 "nbformat_minor": 5
}
